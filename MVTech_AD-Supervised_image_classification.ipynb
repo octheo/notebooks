{
 "cells": [
  {
   "cell_type": "markdown",
   "id": "e22bb09b",
   "metadata": {
    "papermill": {
     "duration": 0.004278,
     "end_time": "2025-03-19T15:53:12.110861",
     "exception": false,
     "start_time": "2025-03-19T15:53:12.106583",
     "status": "completed"
    },
    "tags": []
   },
   "source": [
    "# Setup and imports"
   ]
  },
  {
   "cell_type": "code",
   "execution_count": 1,
   "id": "d623a5fd",
   "metadata": {
    "execution": {
     "iopub.execute_input": "2025-03-19T15:53:12.119251Z",
     "iopub.status.busy": "2025-03-19T15:53:12.119032Z",
     "iopub.status.idle": "2025-03-19T15:53:20.674198Z",
     "shell.execute_reply": "2025-03-19T15:53:20.673186Z"
    },
    "papermill": {
     "duration": 8.561288,
     "end_time": "2025-03-19T15:53:20.675923",
     "exception": false,
     "start_time": "2025-03-19T15:53:12.114635",
     "status": "completed"
    },
    "tags": []
   },
   "outputs": [
    {
     "name": "stdout",
     "output_type": "stream",
     "text": [
      "Collecting git+https://github.com/octheo/futur.git\r\n",
      "  Cloning https://github.com/octheo/futur.git to /tmp/pip-req-build-gfwos_qe\r\n",
      "  Running command git clone --filter=blob:none --quiet https://github.com/octheo/futur.git /tmp/pip-req-build-gfwos_qe\r\n",
      "  Resolved https://github.com/octheo/futur.git to commit 31a61f3a9affe9169226ff3a548239fc1b67521d\r\n",
      "  Preparing metadata (setup.py) ... \u001b[?25l\u001b[?25hdone\r\n",
      "Collecting torcheval (from thor==0.1)\r\n",
      "  Downloading torcheval-0.0.7-py3-none-any.whl.metadata (8.6 kB)\r\n",
      "Requirement already satisfied: torch in /usr/local/lib/python3.10/dist-packages (from thor==0.1) (2.5.1+cu121)\r\n",
      "Requirement already satisfied: numpy in /usr/local/lib/python3.10/dist-packages (from thor==0.1) (1.26.4)\r\n",
      "Requirement already satisfied: wandb in /usr/local/lib/python3.10/dist-packages (from thor==0.1) (0.19.1)\r\n",
      "Requirement already satisfied: pillow in /usr/local/lib/python3.10/dist-packages (from thor==0.1) (11.0.0)\r\n",
      "Requirement already satisfied: matplotlib in /usr/local/lib/python3.10/dist-packages (from thor==0.1) (3.7.5)\r\n",
      "Requirement already satisfied: tqdm in /usr/local/lib/python3.10/dist-packages (from thor==0.1) (4.67.1)\r\n",
      "Requirement already satisfied: contourpy>=1.0.1 in /usr/local/lib/python3.10/dist-packages (from matplotlib->thor==0.1) (1.3.1)\r\n",
      "Requirement already satisfied: cycler>=0.10 in /usr/local/lib/python3.10/dist-packages (from matplotlib->thor==0.1) (0.12.1)\r\n",
      "Requirement already satisfied: fonttools>=4.22.0 in /usr/local/lib/python3.10/dist-packages (from matplotlib->thor==0.1) (4.55.3)\r\n",
      "Requirement already satisfied: kiwisolver>=1.0.1 in /usr/local/lib/python3.10/dist-packages (from matplotlib->thor==0.1) (1.4.7)\r\n",
      "Requirement already satisfied: packaging>=20.0 in /usr/local/lib/python3.10/dist-packages (from matplotlib->thor==0.1) (24.2)\r\n",
      "Requirement already satisfied: pyparsing>=2.3.1 in /usr/local/lib/python3.10/dist-packages (from matplotlib->thor==0.1) (3.2.0)\r\n",
      "Requirement already satisfied: python-dateutil>=2.7 in /usr/local/lib/python3.10/dist-packages (from matplotlib->thor==0.1) (2.9.0.post0)\r\n",
      "Requirement already satisfied: mkl_fft in /usr/local/lib/python3.10/dist-packages (from numpy->thor==0.1) (1.3.8)\r\n",
      "Requirement already satisfied: mkl_random in /usr/local/lib/python3.10/dist-packages (from numpy->thor==0.1) (1.2.4)\r\n",
      "Requirement already satisfied: mkl_umath in /usr/local/lib/python3.10/dist-packages (from numpy->thor==0.1) (0.1.1)\r\n",
      "Requirement already satisfied: mkl in /usr/local/lib/python3.10/dist-packages (from numpy->thor==0.1) (2025.0.1)\r\n",
      "Requirement already satisfied: tbb4py in /usr/local/lib/python3.10/dist-packages (from numpy->thor==0.1) (2022.0.0)\r\n",
      "Requirement already satisfied: mkl-service in /usr/local/lib/python3.10/dist-packages (from numpy->thor==0.1) (2.4.1)\r\n",
      "Requirement already satisfied: filelock in /usr/local/lib/python3.10/dist-packages (from torch->thor==0.1) (3.17.0)\r\n",
      "Requirement already satisfied: typing-extensions>=4.8.0 in /usr/local/lib/python3.10/dist-packages (from torch->thor==0.1) (4.12.2)\r\n",
      "Requirement already satisfied: networkx in /usr/local/lib/python3.10/dist-packages (from torch->thor==0.1) (3.4.2)\r\n",
      "Requirement already satisfied: jinja2 in /usr/local/lib/python3.10/dist-packages (from torch->thor==0.1) (3.1.4)\r\n",
      "Requirement already satisfied: fsspec in /usr/local/lib/python3.10/dist-packages (from torch->thor==0.1) (2024.12.0)\r\n",
      "Requirement already satisfied: sympy==1.13.1 in /usr/local/lib/python3.10/dist-packages (from torch->thor==0.1) (1.13.1)\r\n",
      "Requirement already satisfied: mpmath<1.4,>=1.1.0 in /usr/local/lib/python3.10/dist-packages (from sympy==1.13.1->torch->thor==0.1) (1.3.0)\r\n",
      "Requirement already satisfied: click!=8.0.0,>=7.1 in /usr/local/lib/python3.10/dist-packages (from wandb->thor==0.1) (8.1.7)\r\n",
      "Requirement already satisfied: docker-pycreds>=0.4.0 in /usr/local/lib/python3.10/dist-packages (from wandb->thor==0.1) (0.4.0)\r\n",
      "Requirement already satisfied: gitpython!=3.1.29,>=1.0.0 in /usr/local/lib/python3.10/dist-packages (from wandb->thor==0.1) (3.1.43)\r\n",
      "Requirement already satisfied: platformdirs in /usr/local/lib/python3.10/dist-packages (from wandb->thor==0.1) (4.3.6)\r\n",
      "Requirement already satisfied: protobuf!=4.21.0,!=5.28.0,<6,>=3.19.0 in /usr/local/lib/python3.10/dist-packages (from wandb->thor==0.1) (3.20.3)\r\n",
      "Requirement already satisfied: psutil>=5.0.0 in /usr/local/lib/python3.10/dist-packages (from wandb->thor==0.1) (5.9.5)\r\n",
      "Requirement already satisfied: pydantic<3,>=2.6 in /usr/local/lib/python3.10/dist-packages (from wandb->thor==0.1) (2.11.0a2)\r\n",
      "Requirement already satisfied: pyyaml in /usr/local/lib/python3.10/dist-packages (from wandb->thor==0.1) (6.0.2)\r\n",
      "Requirement already satisfied: requests<3,>=2.0.0 in /usr/local/lib/python3.10/dist-packages (from wandb->thor==0.1) (2.32.3)\r\n",
      "Requirement already satisfied: sentry-sdk>=2.0.0 in /usr/local/lib/python3.10/dist-packages (from wandb->thor==0.1) (2.19.2)\r\n",
      "Requirement already satisfied: setproctitle in /usr/local/lib/python3.10/dist-packages (from wandb->thor==0.1) (1.3.4)\r\n",
      "Requirement already satisfied: setuptools in /usr/local/lib/python3.10/dist-packages (from wandb->thor==0.1) (75.1.0)\r\n",
      "Requirement already satisfied: six>=1.4.0 in /usr/local/lib/python3.10/dist-packages (from docker-pycreds>=0.4.0->wandb->thor==0.1) (1.17.0)\r\n",
      "Requirement already satisfied: gitdb<5,>=4.0.1 in /usr/local/lib/python3.10/dist-packages (from gitpython!=3.1.29,>=1.0.0->wandb->thor==0.1) (4.0.11)\r\n",
      "Requirement already satisfied: annotated-types>=0.6.0 in /usr/local/lib/python3.10/dist-packages (from pydantic<3,>=2.6->wandb->thor==0.1) (0.7.0)\r\n",
      "Requirement already satisfied: pydantic-core==2.29.0 in /usr/local/lib/python3.10/dist-packages (from pydantic<3,>=2.6->wandb->thor==0.1) (2.29.0)\r\n",
      "Requirement already satisfied: charset-normalizer<4,>=2 in /usr/local/lib/python3.10/dist-packages (from requests<3,>=2.0.0->wandb->thor==0.1) (3.4.1)\r\n",
      "Requirement already satisfied: idna<4,>=2.5 in /usr/local/lib/python3.10/dist-packages (from requests<3,>=2.0.0->wandb->thor==0.1) (3.10)\r\n",
      "Requirement already satisfied: urllib3<3,>=1.21.1 in /usr/local/lib/python3.10/dist-packages (from requests<3,>=2.0.0->wandb->thor==0.1) (2.3.0)\r\n",
      "Requirement already satisfied: certifi>=2017.4.17 in /usr/local/lib/python3.10/dist-packages (from requests<3,>=2.0.0->wandb->thor==0.1) (2025.1.31)\r\n",
      "Requirement already satisfied: MarkupSafe>=2.0 in /usr/local/lib/python3.10/dist-packages (from jinja2->torch->thor==0.1) (3.0.2)\r\n",
      "Requirement already satisfied: intel-openmp>=2024 in /usr/local/lib/python3.10/dist-packages (from mkl->numpy->thor==0.1) (2024.2.0)\r\n",
      "Requirement already satisfied: tbb==2022.* in /usr/local/lib/python3.10/dist-packages (from mkl->numpy->thor==0.1) (2022.0.0)\r\n",
      "Requirement already satisfied: tcmlib==1.* in /usr/local/lib/python3.10/dist-packages (from tbb==2022.*->mkl->numpy->thor==0.1) (1.2.0)\r\n",
      "Requirement already satisfied: intel-cmplr-lib-rt in /usr/local/lib/python3.10/dist-packages (from mkl_umath->numpy->thor==0.1) (2024.2.0)\r\n",
      "Requirement already satisfied: smmap<6,>=3.0.1 in /usr/local/lib/python3.10/dist-packages (from gitdb<5,>=4.0.1->gitpython!=3.1.29,>=1.0.0->wandb->thor==0.1) (5.0.1)\r\n",
      "Requirement already satisfied: intel-cmplr-lib-ur==2024.2.0 in /usr/local/lib/python3.10/dist-packages (from intel-openmp>=2024->mkl->numpy->thor==0.1) (2024.2.0)\r\n",
      "Downloading torcheval-0.0.7-py3-none-any.whl (179 kB)\r\n",
      "\u001b[2K   \u001b[90m━━━━━━━━━━━━━━━━━━━━━━━━━━━━━━━━━━━━━━━━\u001b[0m \u001b[32m179.2/179.2 kB\u001b[0m \u001b[31m12.1 MB/s\u001b[0m eta \u001b[36m0:00:00\u001b[0m\r\n",
      "\u001b[?25hBuilding wheels for collected packages: thor\r\n",
      "  Building wheel for thor (setup.py) ... \u001b[?25l\u001b[?25hdone\r\n",
      "  Created wheel for thor: filename=thor-0.1-py3-none-any.whl size=7580 sha256=646bca7d7375d7211400d96d7f57312355afe8f50854d0c374e453b8b6d777f7\r\n",
      "  Stored in directory: /tmp/pip-ephem-wheel-cache-zd7nnu59/wheels/1a/e5/4a/f98ac2a0fb9947573a95a4bd6ac9fe56ccf175cf9031e7c61d\r\n",
      "Successfully built thor\r\n",
      "Installing collected packages: torcheval, thor\r\n",
      "Successfully installed thor-0.1 torcheval-0.0.7\r\n"
     ]
    }
   ],
   "source": [
    "!pip install git+https://github.com/octheo/futur.git"
   ]
  },
  {
   "cell_type": "code",
   "execution_count": 2,
   "id": "c00e1cc4",
   "metadata": {
    "execution": {
     "iopub.execute_input": "2025-03-19T15:53:20.687041Z",
     "iopub.status.busy": "2025-03-19T15:53:20.686774Z",
     "iopub.status.idle": "2025-03-19T15:53:30.635847Z",
     "shell.execute_reply": "2025-03-19T15:53:30.634911Z"
    },
    "papermill": {
     "duration": 9.956336,
     "end_time": "2025-03-19T15:53:30.637525",
     "exception": false,
     "start_time": "2025-03-19T15:53:20.681189",
     "status": "completed"
    },
    "tags": []
   },
   "outputs": [],
   "source": [
    "import os\n",
    "import re\n",
    "import glob\n",
    "import math\n",
    "\n",
    "import wandb\n",
    "from torchvision import transforms, models\n",
    "from torch.utils.data import DataLoader\n",
    "import torch\n",
    "import torch.nn.init as init\n",
    "import torch.optim as optim\n",
    "\n",
    "from thor.splitters import supervised_AD as SAD\n",
    "from thor.trainers import trainers, metrics\n",
    "from thor.trainers import loss\n",
    "from thor.datasets import mvtech"
   ]
  },
  {
   "cell_type": "markdown",
   "id": "cc8a9a5d",
   "metadata": {
    "papermill": {
     "duration": 0.004452,
     "end_time": "2025-03-19T15:53:30.646861",
     "exception": false,
     "start_time": "2025-03-19T15:53:30.642409",
     "status": "completed"
    },
    "tags": []
   },
   "source": [
    "# WandB token config"
   ]
  },
  {
   "cell_type": "code",
   "execution_count": 3,
   "id": "76f1d93f",
   "metadata": {
    "execution": {
     "iopub.execute_input": "2025-03-19T15:53:30.656696Z",
     "iopub.status.busy": "2025-03-19T15:53:30.656235Z",
     "iopub.status.idle": "2025-03-19T15:53:30.921852Z",
     "shell.execute_reply": "2025-03-19T15:53:30.920887Z"
    },
    "papermill": {
     "duration": 0.27207,
     "end_time": "2025-03-19T15:53:30.923367",
     "exception": false,
     "start_time": "2025-03-19T15:53:30.651297",
     "status": "completed"
    },
    "tags": []
   },
   "outputs": [],
   "source": [
    "from kaggle_secrets import UserSecretsClient\n",
    "user_secrets = UserSecretsClient()\n",
    "wandb_key = user_secrets.get_secret(\"WB-SupervisedImageClassification\")"
   ]
  },
  {
   "cell_type": "markdown",
   "id": "f0d2d0d6",
   "metadata": {
    "papermill": {
     "duration": 0.00466,
     "end_time": "2025-03-19T15:53:30.936366",
     "exception": false,
     "start_time": "2025-03-19T15:53:30.931706",
     "status": "completed"
    },
    "tags": []
   },
   "source": [
    "# Run config"
   ]
  },
  {
   "cell_type": "code",
   "execution_count": 4,
   "id": "fad0da78",
   "metadata": {
    "execution": {
     "iopub.execute_input": "2025-03-19T15:53:30.947329Z",
     "iopub.status.busy": "2025-03-19T15:53:30.947089Z",
     "iopub.status.idle": "2025-03-19T15:53:30.950450Z",
     "shell.execute_reply": "2025-03-19T15:53:30.949600Z"
    },
    "papermill": {
     "duration": 0.010485,
     "end_time": "2025-03-19T15:53:30.951868",
     "exception": false,
     "start_time": "2025-03-19T15:53:30.941383",
     "status": "completed"
    },
    "tags": []
   },
   "outputs": [],
   "source": [
    "base_directory = \"/kaggle/input/mvtech-anomaly-detection/mvtec_anomaly_detection\""
   ]
  },
  {
   "cell_type": "code",
   "execution_count": 5,
   "id": "3c00e837",
   "metadata": {
    "execution": {
     "iopub.execute_input": "2025-03-19T15:53:30.962390Z",
     "iopub.status.busy": "2025-03-19T15:53:30.962173Z",
     "iopub.status.idle": "2025-03-19T15:53:30.966903Z",
     "shell.execute_reply": "2025-03-19T15:53:30.966150Z"
    },
    "papermill": {
     "duration": 0.010818,
     "end_time": "2025-03-19T15:53:30.968125",
     "exception": false,
     "start_time": "2025-03-19T15:53:30.957307",
     "status": "completed"
    },
    "tags": []
   },
   "outputs": [
    {
     "name": "stdout",
     "output_type": "stream",
     "text": [
      "['bottle', 'cable', 'capsule', 'carpet', 'grid', 'hazelnut', 'leather', 'metal_nut', 'pill', 'screw', 'tile', 'toothbrush', 'transistor', 'wood', 'zipper']\n"
     ]
    }
   ],
   "source": [
    "categories = {\n",
    "    'bottle': True,\n",
    "    'cable': True,\n",
    "    'capsule': True,\n",
    "    'carpet': True,\n",
    "    'grid': True,\n",
    "    'hazelnut': True,\n",
    "    'leather': True,\n",
    "    'metal_nut': True,\n",
    "    'pill': True,\n",
    "    'screw': True,\n",
    "    'tile': True,\n",
    "    'toothbrush': True,\n",
    "    'transistor': True,\n",
    "    'wood': True,\n",
    "    'zipper': True\n",
    "}\n",
    "\n",
    "selected_classes = [key for key, value in categories.items() if value]\n",
    "print(selected_classes)"
   ]
  },
  {
   "cell_type": "code",
   "execution_count": 6,
   "id": "ae171ce2",
   "metadata": {
    "execution": {
     "iopub.execute_input": "2025-03-19T15:53:30.979041Z",
     "iopub.status.busy": "2025-03-19T15:53:30.978837Z",
     "iopub.status.idle": "2025-03-19T15:53:30.982769Z",
     "shell.execute_reply": "2025-03-19T15:53:30.981981Z"
    },
    "papermill": {
     "duration": 0.011288,
     "end_time": "2025-03-19T15:53:30.984040",
     "exception": false,
     "start_time": "2025-03-19T15:53:30.972752",
     "status": "completed"
    },
    "tags": []
   },
   "outputs": [],
   "source": [
    "conf = {\n",
    "    \"WandB-activated\": True,\n",
    "    \"train_classes\": selected_classes,\n",
    "    \"num_classes\": len(selected_classes),\n",
    "    \"train_task\": 'Image classification',\n",
    "    \"fine-tuned backbone\": False,\n",
    "    \"cls_head\": \"linear\",\n",
    "\n",
    "    \"batch_size\" : 32,\n",
    "    \"epochs\" : 2,\n",
    "    \"lr\" : 1e-4,\n",
    "    \"l2_decay\": 0.,\n",
    "    'metrics': [\"f1\", \"precision\", \"recall\"],\n",
    "    \n",
    "    'img_size': (224,224),\n",
    "    'loss': 'CrossEntropy',\n",
    "}"
   ]
  },
  {
   "cell_type": "markdown",
   "id": "d733f226",
   "metadata": {
    "papermill": {
     "duration": 0.004816,
     "end_time": "2025-03-19T15:53:30.993520",
     "exception": false,
     "start_time": "2025-03-19T15:53:30.988704",
     "status": "completed"
    },
    "tags": []
   },
   "source": [
    "# Model"
   ]
  },
  {
   "cell_type": "code",
   "execution_count": 7,
   "id": "5fca4a89",
   "metadata": {
    "execution": {
     "iopub.execute_input": "2025-03-19T15:53:31.003596Z",
     "iopub.status.busy": "2025-03-19T15:53:31.003348Z",
     "iopub.status.idle": "2025-03-19T15:53:47.725828Z",
     "shell.execute_reply": "2025-03-19T15:53:47.725174Z"
    },
    "papermill": {
     "duration": 16.729001,
     "end_time": "2025-03-19T15:53:47.727078",
     "exception": false,
     "start_time": "2025-03-19T15:53:30.998077",
     "status": "completed"
    },
    "tags": []
   },
   "outputs": [
    {
     "data": {
      "application/vnd.jupyter.widget-view+json": {
       "model_id": "8b527aa4e8aa4d108225494349cbb4dc",
       "version_major": 2,
       "version_minor": 0
      },
      "text/plain": [
       "preprocessor_config.json:   0%|          | 0.00/160 [00:00<?, ?B/s]"
      ]
     },
     "metadata": {},
     "output_type": "display_data"
    },
    {
     "data": {
      "application/vnd.jupyter.widget-view+json": {
       "model_id": "bb595639a98d4d19950ba0f7f663dfad",
       "version_major": 2,
       "version_minor": 0
      },
      "text/plain": [
       "config.json:   0%|          | 0.00/69.7k [00:00<?, ?B/s]"
      ]
     },
     "metadata": {},
     "output_type": "display_data"
    },
    {
     "data": {
      "application/vnd.jupyter.widget-view+json": {
       "model_id": "f19b01dc04cd494d9f91def4f8830099",
       "version_major": 2,
       "version_minor": 0
      },
      "text/plain": [
       "model.safetensors:   0%|          | 0.00/346M [00:00<?, ?B/s]"
      ]
     },
     "metadata": {},
     "output_type": "display_data"
    },
    {
     "name": "stderr",
     "output_type": "stream",
     "text": [
      "Some weights of ViTModel were not initialized from the model checkpoint at google/vit-base-patch16-224 and are newly initialized: ['vit.pooler.dense.bias', 'vit.pooler.dense.weight']\n",
      "You should probably TRAIN this model on a down-stream task to be able to use it for predictions and inference.\n"
     ]
    }
   ],
   "source": [
    "from transformers import ViTModel, ViTFeatureExtractor, ViTImageProcessor, ViTForImageClassification\n",
    "\n",
    "model_name = \"google/vit-base-patch16-224\"\n",
    "conf[\"model\"] = model_name\n",
    "\n",
    "processor = ViTImageProcessor.from_pretrained(model_name)\n",
    "vit_model = ViTModel.from_pretrained(model_name)\n",
    "\n",
    "if not conf[\"fine-tuned backbone\"]:\n",
    "    for param in vit_model.parameters():\n",
    "        param.requires_grad = False"
   ]
  },
  {
   "cell_type": "code",
   "execution_count": 8,
   "id": "5c1a825c",
   "metadata": {
    "execution": {
     "iopub.execute_input": "2025-03-19T15:53:47.738290Z",
     "iopub.status.busy": "2025-03-19T15:53:47.737812Z",
     "iopub.status.idle": "2025-03-19T15:53:47.742294Z",
     "shell.execute_reply": "2025-03-19T15:53:47.741710Z"
    },
    "papermill": {
     "duration": 0.011009,
     "end_time": "2025-03-19T15:53:47.743487",
     "exception": false,
     "start_time": "2025-03-19T15:53:47.732478",
     "status": "completed"
    },
    "tags": []
   },
   "outputs": [],
   "source": [
    "class LinearClassifier(torch.nn.Module):\n",
    "    def __init__(self, vit_model, num_classes):\n",
    "        super(LinearClassifier, self).__init__()\n",
    "        self.vit = vit_model\n",
    "        self.classifier = torch.nn.Linear(vit_model.config.hidden_size, num_classes)\n",
    "\n",
    "    def forward(self, pixel_values):\n",
    "        outputs = self.vit(pixel_values=pixel_values, output_hidden_states=True)\n",
    "        cls_token = outputs.hidden_states[-1][:,0,:]\n",
    "        logits = self.classifier(cls_token)\n",
    "        return logits"
   ]
  },
  {
   "cell_type": "code",
   "execution_count": 9,
   "id": "3ba86077",
   "metadata": {
    "execution": {
     "iopub.execute_input": "2025-03-19T15:53:47.753826Z",
     "iopub.status.busy": "2025-03-19T15:53:47.753587Z",
     "iopub.status.idle": "2025-03-19T15:53:47.756964Z",
     "shell.execute_reply": "2025-03-19T15:53:47.756360Z"
    },
    "papermill": {
     "duration": 0.009907,
     "end_time": "2025-03-19T15:53:47.758176",
     "exception": false,
     "start_time": "2025-03-19T15:53:47.748269",
     "status": "completed"
    },
    "tags": []
   },
   "outputs": [],
   "source": [
    "base_model = LinearClassifier(vit_model, conf[\"num_classes\"])"
   ]
  },
  {
   "cell_type": "markdown",
   "id": "449aff61",
   "metadata": {
    "papermill": {
     "duration": 0.004508,
     "end_time": "2025-03-19T15:53:47.767697",
     "exception": false,
     "start_time": "2025-03-19T15:53:47.763189",
     "status": "completed"
    },
    "tags": []
   },
   "source": [
    "# Pipeline"
   ]
  },
  {
   "cell_type": "code",
   "execution_count": 10,
   "id": "9a986ca6",
   "metadata": {
    "execution": {
     "iopub.execute_input": "2025-03-19T15:53:47.777875Z",
     "iopub.status.busy": "2025-03-19T15:53:47.777659Z",
     "iopub.status.idle": "2025-03-19T15:53:49.951707Z",
     "shell.execute_reply": "2025-03-19T15:53:49.951005Z"
    },
    "papermill": {
     "duration": 2.180714,
     "end_time": "2025-03-19T15:53:49.953085",
     "exception": false,
     "start_time": "2025-03-19T15:53:47.772371",
     "status": "completed"
    },
    "tags": []
   },
   "outputs": [],
   "source": [
    "splits = []\n",
    "for c in selected_classes:\n",
    "    splits.append(SAD.MVTech_AD_supervised_cls_split(base_directory, c, train_split=1, val_split=0, dist_adjust=False, multiclass=False))"
   ]
  },
  {
   "cell_type": "code",
   "execution_count": 11,
   "id": "eb693948",
   "metadata": {
    "execution": {
     "iopub.execute_input": "2025-03-19T15:53:49.963969Z",
     "iopub.status.busy": "2025-03-19T15:53:49.963738Z",
     "iopub.status.idle": "2025-03-19T15:53:49.969417Z",
     "shell.execute_reply": "2025-03-19T15:53:49.968796Z"
    },
    "papermill": {
     "duration": 0.012343,
     "end_time": "2025-03-19T15:53:49.970687",
     "exception": false,
     "start_time": "2025-03-19T15:53:49.958344",
     "status": "completed"
    },
    "tags": []
   },
   "outputs": [],
   "source": [
    "train = []\n",
    "val = []\n",
    "test = []\n",
    "for i, split in enumerate(splits):\n",
    "    for j, sample in enumerate(split.no_defect_samples):\n",
    "        split.no_defect_samples[j] = (sample, i)\n",
    "    train += split.no_defect_samples[:math.ceil(0.8*split.nb_no_defect_samples)]\n",
    "    val += split.no_defect_samples[math.ceil(0.8*split.nb_no_defect_samples):math.ceil(0.9*split.nb_no_defect_samples)]\n",
    "    test += split.no_defect_samples[math.ceil(0.9*split.nb_no_defect_samples):]"
   ]
  },
  {
   "cell_type": "code",
   "execution_count": 12,
   "id": "8c656ff5",
   "metadata": {
    "execution": {
     "iopub.execute_input": "2025-03-19T15:53:49.981080Z",
     "iopub.status.busy": "2025-03-19T15:53:49.980871Z",
     "iopub.status.idle": "2025-03-19T15:53:49.983857Z",
     "shell.execute_reply": "2025-03-19T15:53:49.983281Z"
    },
    "papermill": {
     "duration": 0.009237,
     "end_time": "2025-03-19T15:53:49.984943",
     "exception": false,
     "start_time": "2025-03-19T15:53:49.975706",
     "status": "completed"
    },
    "tags": []
   },
   "outputs": [],
   "source": [
    "train_transform = transforms.Compose([transforms.Resize(size=conf['img_size']),\n",
    "                                     transforms.ToTensor()])"
   ]
  },
  {
   "cell_type": "code",
   "execution_count": 13,
   "id": "bd4f2d23",
   "metadata": {
    "execution": {
     "iopub.execute_input": "2025-03-19T15:53:49.995532Z",
     "iopub.status.busy": "2025-03-19T15:53:49.995295Z",
     "iopub.status.idle": "2025-03-19T15:53:49.998686Z",
     "shell.execute_reply": "2025-03-19T15:53:49.998119Z"
    },
    "papermill": {
     "duration": 0.009885,
     "end_time": "2025-03-19T15:53:49.999936",
     "exception": false,
     "start_time": "2025-03-19T15:53:49.990051",
     "status": "completed"
    },
    "tags": []
   },
   "outputs": [],
   "source": [
    "datasets = [mvtech.MVTechDataset_cls(split, transform=train_transform) for split in (train, val, test)]\n",
    "dataloaders = [DataLoader(dataset, batch_size=conf[\"batch_size\"], shuffle=True) for dataset in datasets]"
   ]
  },
  {
   "cell_type": "code",
   "execution_count": 14,
   "id": "c76aac1b",
   "metadata": {
    "execution": {
     "iopub.execute_input": "2025-03-19T15:53:50.010288Z",
     "iopub.status.busy": "2025-03-19T15:53:50.010064Z",
     "iopub.status.idle": "2025-03-19T15:53:52.410125Z",
     "shell.execute_reply": "2025-03-19T15:53:52.409462Z"
    },
    "papermill": {
     "duration": 2.406894,
     "end_time": "2025-03-19T15:53:52.411665",
     "exception": false,
     "start_time": "2025-03-19T15:53:50.004771",
     "status": "completed"
    },
    "tags": []
   },
   "outputs": [
    {
     "name": "stderr",
     "output_type": "stream",
     "text": [
      "\u001b[34m\u001b[1mwandb\u001b[0m: Using wandb-core as the SDK backend.  Please refer to https://wandb.me/wandb-core for more information.\n",
      "\u001b[34m\u001b[1mwandb\u001b[0m: Currently logged in as: \u001b[33mtheomoreau-thor\u001b[0m (\u001b[33mtheomoreau-thor-octo-technology\u001b[0m). Use \u001b[1m`wandb login --relogin`\u001b[0m to force relogin\n",
      "\u001b[34m\u001b[1mwandb\u001b[0m: \u001b[33mWARNING\u001b[0m If you're specifying your api key in code, ensure this code is not shared publicly.\n",
      "\u001b[34m\u001b[1mwandb\u001b[0m: \u001b[33mWARNING\u001b[0m Consider setting the WANDB_API_KEY environment variable, or running `wandb login` from the command line.\n",
      "\u001b[34m\u001b[1mwandb\u001b[0m: Appending key for api.wandb.ai to your netrc file: /root/.netrc\n",
      "\u001b[34m\u001b[1mwandb\u001b[0m: Tracking run with wandb version 0.19.1\n",
      "\u001b[34m\u001b[1mwandb\u001b[0m: Run data is saved locally in \u001b[35m\u001b[1m/kaggle/working/wandb/run-20250319_155351-vjtl0yxa\u001b[0m\n",
      "\u001b[34m\u001b[1mwandb\u001b[0m: Run \u001b[1m`wandb offline`\u001b[0m to turn off syncing.\n",
      "\u001b[34m\u001b[1mwandb\u001b[0m: Syncing run \u001b[33mmajor-monkey-10\u001b[0m\n",
      "\u001b[34m\u001b[1mwandb\u001b[0m: ⭐️ View project at \u001b[34m\u001b[4mhttps://wandb.ai/theomoreau-thor-octo-technology/Classification\u001b[0m\n",
      "\u001b[34m\u001b[1mwandb\u001b[0m: 🚀 View run at \u001b[34m\u001b[4mhttps://wandb.ai/theomoreau-thor-octo-technology/Classification/runs/vjtl0yxa\u001b[0m\n"
     ]
    }
   ],
   "source": [
    "if conf[\"WandB-activated\"]:\n",
    "    wandb.login(key=wandb_key)\n",
    "    \n",
    "    run = wandb.init(\n",
    "        project=\"Classification\",\n",
    "        config=conf\n",
    "    )\n",
    "\n",
    "    model_artifact = wandb.Artifact(\"ViT-B\", \n",
    "                                    type=\"model\",\n",
    "                                    description=\"Base training\",\n",
    "                                    metadata=conf\n",
    "                                   )"
   ]
  },
  {
   "cell_type": "markdown",
   "id": "0de2aee0",
   "metadata": {
    "papermill": {
     "duration": 0.005167,
     "end_time": "2025-03-19T15:53:52.422649",
     "exception": false,
     "start_time": "2025-03-19T15:53:52.417482",
     "status": "completed"
    },
    "tags": []
   },
   "source": [
    "# Model training"
   ]
  },
  {
   "cell_type": "code",
   "execution_count": 15,
   "id": "81c8cf66",
   "metadata": {
    "execution": {
     "iopub.execute_input": "2025-03-19T15:53:52.433873Z",
     "iopub.status.busy": "2025-03-19T15:53:52.433633Z",
     "iopub.status.idle": "2025-03-19T16:16:42.680211Z",
     "shell.execute_reply": "2025-03-19T16:16:42.679525Z"
    },
    "papermill": {
     "duration": 1370.254052,
     "end_time": "2025-03-19T16:16:42.681896",
     "exception": false,
     "start_time": "2025-03-19T15:53:52.427844",
     "status": "completed"
    },
    "tags": []
   },
   "outputs": [
    {
     "name": "stderr",
     "output_type": "stream",
     "text": [
      "Train epoch 0: 100%|██████████| 103/103 [03:44<00:00,  2.18s/Batch]\n",
      "Metric computation: 100%|██████████| 3/3 [07:08<00:00, 142.90s/Metric]\n",
      "Val epoch 0: 100%|██████████| 13/13 [00:25<00:00,  1.98s/Batch]\n",
      "Metric computation: 100%|██████████| 3/3 [00:53<00:00, 17.77s/Metric]\n"
     ]
    },
    {
     "name": "stdout",
     "output_type": "stream",
     "text": [
      "train loss: 0.00010508100739588925, val loss: 0.000983919482678175\n"
     ]
    },
    {
     "name": "stderr",
     "output_type": "stream",
     "text": [
      "Train epoch 1: 100%|██████████| 103/103 [02:24<00:00,  1.40s/Batch]\n",
      "Metric computation: 100%|██████████| 3/3 [07:01<00:00, 140.48s/Metric]\n",
      "Val epoch 1: 100%|██████████| 13/13 [00:17<00:00,  1.37s/Batch]\n",
      "Metric computation: 100%|██████████| 3/3 [00:51<00:00, 17.07s/Metric]\n"
     ]
    },
    {
     "name": "stdout",
     "output_type": "stream",
     "text": [
      "train loss: 3.0163769135434252e-05, val loss: 0.0005945794594784578\n"
     ]
    },
    {
     "name": "stderr",
     "output_type": "stream",
     "text": [
      "\u001b[34m\u001b[1mwandb\u001b[0m: \u001b[33mWARNING\u001b[0m Saving files without folders. If you want to preserve subdirectories pass base_path to wandb.save, i.e. wandb.save(\"/mnt/folder/file.h5\", base_path=\"/mnt\")\n"
     ]
    }
   ],
   "source": [
    "optimizer = optim.Adam(base_model.classifier.parameters(), lr=conf['lr'], weight_decay=conf[\"l2_decay\"])\n",
    "m = metrics.ClassificationMetrics(conf[\"num_classes\"], conf['metrics'])\n",
    "l = loss.ClassificationLoss(\"CE\")\n",
    "\n",
    "trainer = trainers.ClassificationTrainer(optimizer, l, m)\n",
    "device = torch.device(\"cuda\" if torch.cuda.is_available() else \"cpu\")\n",
    "\n",
    "for param in base_model.classifier.parameters():\n",
    "    param.requires_grad = True\n",
    "\n",
    "save_path = \"/kaggle/working/model.pth\"\n",
    "\n",
    "trainer.train(\n",
    "    base_model, \n",
    "    conf[\"epochs\"], \n",
    "    dataloaders[0], \n",
    "    dataloaders[1], \n",
    "    conf[\"num_classes\"], \n",
    "    device, \n",
    "    save_path=save_path, \n",
    "    wandb_run=run, \n",
    "    model_artifact=model_artifact\n",
    ")"
   ]
  },
  {
   "cell_type": "markdown",
   "id": "d82bc613",
   "metadata": {
    "papermill": {
     "duration": 0.017687,
     "end_time": "2025-03-19T16:16:42.720350",
     "exception": false,
     "start_time": "2025-03-19T16:16:42.702663",
     "status": "completed"
    },
    "tags": []
   },
   "source": [
    "# Model evaluation"
   ]
  },
  {
   "cell_type": "code",
   "execution_count": 16,
   "id": "3e2165b7",
   "metadata": {
    "execution": {
     "iopub.execute_input": "2025-03-19T16:16:42.756343Z",
     "iopub.status.busy": "2025-03-19T16:16:42.756088Z",
     "iopub.status.idle": "2025-03-19T16:18:00.831346Z",
     "shell.execute_reply": "2025-03-19T16:18:00.830377Z"
    },
    "papermill": {
     "duration": 78.106208,
     "end_time": "2025-03-19T16:18:00.844251",
     "exception": false,
     "start_time": "2025-03-19T16:16:42.738043",
     "status": "completed"
    },
    "tags": []
   },
   "outputs": [
    {
     "name": "stderr",
     "output_type": "stream",
     "text": [
      "Metric computation: 100%|██████████| 3/3 [00:51<00:00, 17.27s/Metric]\n"
     ]
    }
   ],
   "source": [
    "trainer.validate_model(base_model, dataloaders[2], conf[\"num_classes\"], device, run, log_images=True)"
   ]
  },
  {
   "cell_type": "code",
   "execution_count": 17,
   "id": "da8c5f32",
   "metadata": {
    "execution": {
     "iopub.execute_input": "2025-03-19T16:18:00.879277Z",
     "iopub.status.busy": "2025-03-19T16:18:00.879033Z",
     "iopub.status.idle": "2025-03-19T16:18:18.025286Z",
     "shell.execute_reply": "2025-03-19T16:18:18.024410Z"
    },
    "papermill": {
     "duration": 17.165213,
     "end_time": "2025-03-19T16:18:18.026585",
     "exception": false,
     "start_time": "2025-03-19T16:18:00.861372",
     "status": "completed"
    },
    "tags": []
   },
   "outputs": [
    {
     "name": "stderr",
     "output_type": "stream",
     "text": [
      "\u001b[34m\u001b[1mwandb\u001b[0m: uploading output.log; uploading working/model.pth; uploading config.yaml\n",
      "\u001b[34m\u001b[1mwandb\u001b[0m: uploading working/model.pth\n",
      "\u001b[34m\u001b[1mwandb\u001b[0m: uploading working/model.pth; uploading history steps 238-238, summary, console lines 11-11\n",
      "\u001b[34m\u001b[1mwandb\u001b[0m: uploading working/model.pth\n",
      "\u001b[34m\u001b[1mwandb\u001b[0m:                                                                                \n",
      "\u001b[34m\u001b[1mwandb\u001b[0m: \n",
      "\u001b[34m\u001b[1mwandb\u001b[0m: Run history:\n",
      "\u001b[34m\u001b[1mwandb\u001b[0m:  avg_train_loss █▁\n",
      "\u001b[34m\u001b[1mwandb\u001b[0m:    avg_val_loss █▁\n",
      "\u001b[34m\u001b[1mwandb\u001b[0m:        train_f1 ▁█\n",
      "\u001b[34m\u001b[1mwandb\u001b[0m:      train_loss █▆▄▃▂▂▂▁▁▁▁▁▁▁▁▁▁▁▁▁▁▁▁▁▁▁▁▁▁▁▁▁▁▁▁▁▁▁▁▁\n",
      "\u001b[34m\u001b[1mwandb\u001b[0m: train_precision ▁█\n",
      "\u001b[34m\u001b[1mwandb\u001b[0m:    train_recall ▁█\n",
      "\u001b[34m\u001b[1mwandb\u001b[0m:          val_f1 ▁█\n",
      "\u001b[34m\u001b[1mwandb\u001b[0m:        val_loss ▂▄▄▂▃▄▂▂▂▃█▂▂▂▁▁▁▁▁▂▃▁▁▁▁▁\n",
      "\u001b[34m\u001b[1mwandb\u001b[0m:   val_precision ▁█\n",
      "\u001b[34m\u001b[1mwandb\u001b[0m:      val_recall ▁█\n",
      "\u001b[34m\u001b[1mwandb\u001b[0m: \n",
      "\u001b[34m\u001b[1mwandb\u001b[0m: Run summary:\n",
      "\u001b[34m\u001b[1mwandb\u001b[0m:      avg_train_loss 3e-05\n",
      "\u001b[34m\u001b[1mwandb\u001b[0m:        avg_val_loss 0.00059\n",
      "\u001b[34m\u001b[1mwandb\u001b[0m:        test_test_f1 0.998\n",
      "\u001b[34m\u001b[1mwandb\u001b[0m: test_test_precision 0.99762\n",
      "\u001b[34m\u001b[1mwandb\u001b[0m:    test_test_recall 0.99845\n",
      "\u001b[34m\u001b[1mwandb\u001b[0m:            train_f1 0.99864\n",
      "\u001b[34m\u001b[1mwandb\u001b[0m:          train_loss 0.00308\n",
      "\u001b[34m\u001b[1mwandb\u001b[0m:     train_precision 0.99871\n",
      "\u001b[34m\u001b[1mwandb\u001b[0m:        train_recall 0.99858\n",
      "\u001b[34m\u001b[1mwandb\u001b[0m:              val_f1 1\n",
      "\u001b[34m\u001b[1mwandb\u001b[0m:            val_loss 0.00713\n",
      "\u001b[34m\u001b[1mwandb\u001b[0m:       val_precision 1\n",
      "\u001b[34m\u001b[1mwandb\u001b[0m:          val_recall 1\n",
      "\u001b[34m\u001b[1mwandb\u001b[0m: \n",
      "\u001b[34m\u001b[1mwandb\u001b[0m: 🚀 View run \u001b[33mmajor-monkey-10\u001b[0m at: \u001b[34m\u001b[4mhttps://wandb.ai/theomoreau-thor-octo-technology/Classification/runs/vjtl0yxa\u001b[0m\n",
      "\u001b[34m\u001b[1mwandb\u001b[0m: ⭐️ View project at: \u001b[34m\u001b[4mhttps://wandb.ai/theomoreau-thor-octo-technology/Classification\u001b[0m\n",
      "\u001b[34m\u001b[1mwandb\u001b[0m: Synced 5 W&B file(s), 0 media file(s), 36 artifact file(s) and 2 other file(s)\n",
      "\u001b[34m\u001b[1mwandb\u001b[0m: Find logs at: \u001b[35m\u001b[1m./wandb/run-20250319_155351-vjtl0yxa/logs\u001b[0m\n"
     ]
    }
   ],
   "source": [
    "wandb.finish()"
   ]
  }
 ],
 "metadata": {
  "kaggle": {
   "accelerator": "gpu",
   "dataSources": [
    {
     "datasetId": 6850145,
     "sourceId": 11004448,
     "sourceType": "datasetVersion"
    }
   ],
   "dockerImageVersionId": 30919,
   "isGpuEnabled": true,
   "isInternetEnabled": true,
   "language": "python",
   "sourceType": "notebook"
  },
  "kernelspec": {
   "display_name": "Python 3",
   "language": "python",
   "name": "python3"
  },
  "language_info": {
   "codemirror_mode": {
    "name": "ipython",
    "version": 3
   },
   "file_extension": ".py",
   "mimetype": "text/x-python",
   "name": "python",
   "nbconvert_exporter": "python",
   "pygments_lexer": "ipython3",
   "version": "3.10.12"
  },
  "papermill": {
   "default_parameters": {},
   "duration": 1511.434276,
   "end_time": "2025-03-19T16:18:20.869615",
   "environment_variables": {},
   "exception": null,
   "input_path": "__notebook__.ipynb",
   "output_path": "__notebook__.ipynb",
   "parameters": {},
   "start_time": "2025-03-19T15:53:09.435339",
   "version": "2.6.0"
  },
  "widgets": {
   "application/vnd.jupyter.widget-state+json": {
    "state": {
     "0cd5ee7ba8cb49638f19fa661a9774e4": {
      "model_module": "@jupyter-widgets/base",
      "model_module_version": "2.0.0",
      "model_name": "LayoutModel",
      "state": {
       "_model_module": "@jupyter-widgets/base",
       "_model_module_version": "2.0.0",
       "_model_name": "LayoutModel",
       "_view_count": null,
       "_view_module": "@jupyter-widgets/base",
       "_view_module_version": "2.0.0",
       "_view_name": "LayoutView",
       "align_content": null,
       "align_items": null,
       "align_self": null,
       "border_bottom": null,
       "border_left": null,
       "border_right": null,
       "border_top": null,
       "bottom": null,
       "display": null,
       "flex": null,
       "flex_flow": null,
       "grid_area": null,
       "grid_auto_columns": null,
       "grid_auto_flow": null,
       "grid_auto_rows": null,
       "grid_column": null,
       "grid_gap": null,
       "grid_row": null,
       "grid_template_areas": null,
       "grid_template_columns": null,
       "grid_template_rows": null,
       "height": null,
       "justify_content": null,
       "justify_items": null,
       "left": null,
       "margin": null,
       "max_height": null,
       "max_width": null,
       "min_height": null,
       "min_width": null,
       "object_fit": null,
       "object_position": null,
       "order": null,
       "overflow": null,
       "padding": null,
       "right": null,
       "top": null,
       "visibility": null,
       "width": null
      }
     },
     "0e638e53904346a0bfc4bf07a716bea1": {
      "model_module": "@jupyter-widgets/controls",
      "model_module_version": "2.0.0",
      "model_name": "FloatProgressModel",
      "state": {
       "_dom_classes": [],
       "_model_module": "@jupyter-widgets/controls",
       "_model_module_version": "2.0.0",
       "_model_name": "FloatProgressModel",
       "_view_count": null,
       "_view_module": "@jupyter-widgets/controls",
       "_view_module_version": "2.0.0",
       "_view_name": "ProgressView",
       "bar_style": "success",
       "description": "",
       "description_allow_html": false,
       "layout": "IPY_MODEL_be64976a28a047809fd37840325a29fe",
       "max": 160.0,
       "min": 0.0,
       "orientation": "horizontal",
       "style": "IPY_MODEL_dfad512a6302462181ad223ccd401f97",
       "tabbable": null,
       "tooltip": null,
       "value": 160.0
      }
     },
     "1e703a3a06c844b78aa73471c8bfa1aa": {
      "model_module": "@jupyter-widgets/base",
      "model_module_version": "2.0.0",
      "model_name": "LayoutModel",
      "state": {
       "_model_module": "@jupyter-widgets/base",
       "_model_module_version": "2.0.0",
       "_model_name": "LayoutModel",
       "_view_count": null,
       "_view_module": "@jupyter-widgets/base",
       "_view_module_version": "2.0.0",
       "_view_name": "LayoutView",
       "align_content": null,
       "align_items": null,
       "align_self": null,
       "border_bottom": null,
       "border_left": null,
       "border_right": null,
       "border_top": null,
       "bottom": null,
       "display": null,
       "flex": null,
       "flex_flow": null,
       "grid_area": null,
       "grid_auto_columns": null,
       "grid_auto_flow": null,
       "grid_auto_rows": null,
       "grid_column": null,
       "grid_gap": null,
       "grid_row": null,
       "grid_template_areas": null,
       "grid_template_columns": null,
       "grid_template_rows": null,
       "height": null,
       "justify_content": null,
       "justify_items": null,
       "left": null,
       "margin": null,
       "max_height": null,
       "max_width": null,
       "min_height": null,
       "min_width": null,
       "object_fit": null,
       "object_position": null,
       "order": null,
       "overflow": null,
       "padding": null,
       "right": null,
       "top": null,
       "visibility": null,
       "width": null
      }
     },
     "30aebc1210bf41cb8ace111df2f8d0b6": {
      "model_module": "@jupyter-widgets/base",
      "model_module_version": "2.0.0",
      "model_name": "LayoutModel",
      "state": {
       "_model_module": "@jupyter-widgets/base",
       "_model_module_version": "2.0.0",
       "_model_name": "LayoutModel",
       "_view_count": null,
       "_view_module": "@jupyter-widgets/base",
       "_view_module_version": "2.0.0",
       "_view_name": "LayoutView",
       "align_content": null,
       "align_items": null,
       "align_self": null,
       "border_bottom": null,
       "border_left": null,
       "border_right": null,
       "border_top": null,
       "bottom": null,
       "display": null,
       "flex": null,
       "flex_flow": null,
       "grid_area": null,
       "grid_auto_columns": null,
       "grid_auto_flow": null,
       "grid_auto_rows": null,
       "grid_column": null,
       "grid_gap": null,
       "grid_row": null,
       "grid_template_areas": null,
       "grid_template_columns": null,
       "grid_template_rows": null,
       "height": null,
       "justify_content": null,
       "justify_items": null,
       "left": null,
       "margin": null,
       "max_height": null,
       "max_width": null,
       "min_height": null,
       "min_width": null,
       "object_fit": null,
       "object_position": null,
       "order": null,
       "overflow": null,
       "padding": null,
       "right": null,
       "top": null,
       "visibility": null,
       "width": null
      }
     },
     "3fef38b3f44b493f96115c695cd54a9d": {
      "model_module": "@jupyter-widgets/controls",
      "model_module_version": "2.0.0",
      "model_name": "HTMLModel",
      "state": {
       "_dom_classes": [],
       "_model_module": "@jupyter-widgets/controls",
       "_model_module_version": "2.0.0",
       "_model_name": "HTMLModel",
       "_view_count": null,
       "_view_module": "@jupyter-widgets/controls",
       "_view_module_version": "2.0.0",
       "_view_name": "HTMLView",
       "description": "",
       "description_allow_html": false,
       "layout": "IPY_MODEL_1e703a3a06c844b78aa73471c8bfa1aa",
       "placeholder": "​",
       "style": "IPY_MODEL_c6af9f3dc1734ff5ab7fb4de7f456308",
       "tabbable": null,
       "tooltip": null,
       "value": "preprocessor_config.json: 100%"
      }
     },
     "485131c0bee6459f97d3ba2d8d87d092": {
      "model_module": "@jupyter-widgets/controls",
      "model_module_version": "2.0.0",
      "model_name": "HTMLModel",
      "state": {
       "_dom_classes": [],
       "_model_module": "@jupyter-widgets/controls",
       "_model_module_version": "2.0.0",
       "_model_name": "HTMLModel",
       "_view_count": null,
       "_view_module": "@jupyter-widgets/controls",
       "_view_module_version": "2.0.0",
       "_view_name": "HTMLView",
       "description": "",
       "description_allow_html": false,
       "layout": "IPY_MODEL_985c03a0560547b3995e6c8d3d07e084",
       "placeholder": "​",
       "style": "IPY_MODEL_e2bd9136e0ac43b4a708ddc230cbd13e",
       "tabbable": null,
       "tooltip": null,
       "value": " 346M/346M [00:00&lt;00:00, 413MB/s]"
      }
     },
     "4be70866edb54da3a719f3d7694dce7f": {
      "model_module": "@jupyter-widgets/controls",
      "model_module_version": "2.0.0",
      "model_name": "HTMLStyleModel",
      "state": {
       "_model_module": "@jupyter-widgets/controls",
       "_model_module_version": "2.0.0",
       "_model_name": "HTMLStyleModel",
       "_view_count": null,
       "_view_module": "@jupyter-widgets/base",
       "_view_module_version": "2.0.0",
       "_view_name": "StyleView",
       "background": null,
       "description_width": "",
       "font_size": null,
       "text_color": null
      }
     },
     "6ac76c70a4a246528a17ba2f3f4985c1": {
      "model_module": "@jupyter-widgets/controls",
      "model_module_version": "2.0.0",
      "model_name": "HTMLModel",
      "state": {
       "_dom_classes": [],
       "_model_module": "@jupyter-widgets/controls",
       "_model_module_version": "2.0.0",
       "_model_name": "HTMLModel",
       "_view_count": null,
       "_view_module": "@jupyter-widgets/controls",
       "_view_module_version": "2.0.0",
       "_view_name": "HTMLView",
       "description": "",
       "description_allow_html": false,
       "layout": "IPY_MODEL_d63b25ee71c84dd5a5fe7fae734ef621",
       "placeholder": "​",
       "style": "IPY_MODEL_c2b6a7dbd913410e8de41915033ff1f1",
       "tabbable": null,
       "tooltip": null,
       "value": " 69.7k/69.7k [00:00&lt;00:00, 7.00MB/s]"
      }
     },
     "8b527aa4e8aa4d108225494349cbb4dc": {
      "model_module": "@jupyter-widgets/controls",
      "model_module_version": "2.0.0",
      "model_name": "HBoxModel",
      "state": {
       "_dom_classes": [],
       "_model_module": "@jupyter-widgets/controls",
       "_model_module_version": "2.0.0",
       "_model_name": "HBoxModel",
       "_view_count": null,
       "_view_module": "@jupyter-widgets/controls",
       "_view_module_version": "2.0.0",
       "_view_name": "HBoxView",
       "box_style": "",
       "children": [
        "IPY_MODEL_3fef38b3f44b493f96115c695cd54a9d",
        "IPY_MODEL_0e638e53904346a0bfc4bf07a716bea1",
        "IPY_MODEL_f885976b971e408ca35fab82fcc30438"
       ],
       "layout": "IPY_MODEL_30aebc1210bf41cb8ace111df2f8d0b6",
       "tabbable": null,
       "tooltip": null
      }
     },
     "9533b45fccec469784bb8c46e326169e": {
      "model_module": "@jupyter-widgets/controls",
      "model_module_version": "2.0.0",
      "model_name": "FloatProgressModel",
      "state": {
       "_dom_classes": [],
       "_model_module": "@jupyter-widgets/controls",
       "_model_module_version": "2.0.0",
       "_model_name": "FloatProgressModel",
       "_view_count": null,
       "_view_module": "@jupyter-widgets/controls",
       "_view_module_version": "2.0.0",
       "_view_name": "ProgressView",
       "bar_style": "success",
       "description": "",
       "description_allow_html": false,
       "layout": "IPY_MODEL_a129a25c8a2c419da59b343e66bc4a3f",
       "max": 346293852.0,
       "min": 0.0,
       "orientation": "horizontal",
       "style": "IPY_MODEL_d017987a09864901937a5c5f9a0e2a53",
       "tabbable": null,
       "tooltip": null,
       "value": 346293852.0
      }
     },
     "972fb346f81b4d81ad624cfc6c4bfe7c": {
      "model_module": "@jupyter-widgets/base",
      "model_module_version": "2.0.0",
      "model_name": "LayoutModel",
      "state": {
       "_model_module": "@jupyter-widgets/base",
       "_model_module_version": "2.0.0",
       "_model_name": "LayoutModel",
       "_view_count": null,
       "_view_module": "@jupyter-widgets/base",
       "_view_module_version": "2.0.0",
       "_view_name": "LayoutView",
       "align_content": null,
       "align_items": null,
       "align_self": null,
       "border_bottom": null,
       "border_left": null,
       "border_right": null,
       "border_top": null,
       "bottom": null,
       "display": null,
       "flex": null,
       "flex_flow": null,
       "grid_area": null,
       "grid_auto_columns": null,
       "grid_auto_flow": null,
       "grid_auto_rows": null,
       "grid_column": null,
       "grid_gap": null,
       "grid_row": null,
       "grid_template_areas": null,
       "grid_template_columns": null,
       "grid_template_rows": null,
       "height": null,
       "justify_content": null,
       "justify_items": null,
       "left": null,
       "margin": null,
       "max_height": null,
       "max_width": null,
       "min_height": null,
       "min_width": null,
       "object_fit": null,
       "object_position": null,
       "order": null,
       "overflow": null,
       "padding": null,
       "right": null,
       "top": null,
       "visibility": null,
       "width": null
      }
     },
     "985c03a0560547b3995e6c8d3d07e084": {
      "model_module": "@jupyter-widgets/base",
      "model_module_version": "2.0.0",
      "model_name": "LayoutModel",
      "state": {
       "_model_module": "@jupyter-widgets/base",
       "_model_module_version": "2.0.0",
       "_model_name": "LayoutModel",
       "_view_count": null,
       "_view_module": "@jupyter-widgets/base",
       "_view_module_version": "2.0.0",
       "_view_name": "LayoutView",
       "align_content": null,
       "align_items": null,
       "align_self": null,
       "border_bottom": null,
       "border_left": null,
       "border_right": null,
       "border_top": null,
       "bottom": null,
       "display": null,
       "flex": null,
       "flex_flow": null,
       "grid_area": null,
       "grid_auto_columns": null,
       "grid_auto_flow": null,
       "grid_auto_rows": null,
       "grid_column": null,
       "grid_gap": null,
       "grid_row": null,
       "grid_template_areas": null,
       "grid_template_columns": null,
       "grid_template_rows": null,
       "height": null,
       "justify_content": null,
       "justify_items": null,
       "left": null,
       "margin": null,
       "max_height": null,
       "max_width": null,
       "min_height": null,
       "min_width": null,
       "object_fit": null,
       "object_position": null,
       "order": null,
       "overflow": null,
       "padding": null,
       "right": null,
       "top": null,
       "visibility": null,
       "width": null
      }
     },
     "9db497b1e3b645a6815fdbf05e7a7984": {
      "model_module": "@jupyter-widgets/controls",
      "model_module_version": "2.0.0",
      "model_name": "HTMLStyleModel",
      "state": {
       "_model_module": "@jupyter-widgets/controls",
       "_model_module_version": "2.0.0",
       "_model_name": "HTMLStyleModel",
       "_view_count": null,
       "_view_module": "@jupyter-widgets/base",
       "_view_module_version": "2.0.0",
       "_view_name": "StyleView",
       "background": null,
       "description_width": "",
       "font_size": null,
       "text_color": null
      }
     },
     "a129a25c8a2c419da59b343e66bc4a3f": {
      "model_module": "@jupyter-widgets/base",
      "model_module_version": "2.0.0",
      "model_name": "LayoutModel",
      "state": {
       "_model_module": "@jupyter-widgets/base",
       "_model_module_version": "2.0.0",
       "_model_name": "LayoutModel",
       "_view_count": null,
       "_view_module": "@jupyter-widgets/base",
       "_view_module_version": "2.0.0",
       "_view_name": "LayoutView",
       "align_content": null,
       "align_items": null,
       "align_self": null,
       "border_bottom": null,
       "border_left": null,
       "border_right": null,
       "border_top": null,
       "bottom": null,
       "display": null,
       "flex": null,
       "flex_flow": null,
       "grid_area": null,
       "grid_auto_columns": null,
       "grid_auto_flow": null,
       "grid_auto_rows": null,
       "grid_column": null,
       "grid_gap": null,
       "grid_row": null,
       "grid_template_areas": null,
       "grid_template_columns": null,
       "grid_template_rows": null,
       "height": null,
       "justify_content": null,
       "justify_items": null,
       "left": null,
       "margin": null,
       "max_height": null,
       "max_width": null,
       "min_height": null,
       "min_width": null,
       "object_fit": null,
       "object_position": null,
       "order": null,
       "overflow": null,
       "padding": null,
       "right": null,
       "top": null,
       "visibility": null,
       "width": null
      }
     },
     "a9558a18cd8b4abf8bb433b3451f9c26": {
      "model_module": "@jupyter-widgets/controls",
      "model_module_version": "2.0.0",
      "model_name": "FloatProgressModel",
      "state": {
       "_dom_classes": [],
       "_model_module": "@jupyter-widgets/controls",
       "_model_module_version": "2.0.0",
       "_model_name": "FloatProgressModel",
       "_view_count": null,
       "_view_module": "@jupyter-widgets/controls",
       "_view_module_version": "2.0.0",
       "_view_name": "ProgressView",
       "bar_style": "success",
       "description": "",
       "description_allow_html": false,
       "layout": "IPY_MODEL_f0053aa1905448ff95d2f672017a6d40",
       "max": 69665.0,
       "min": 0.0,
       "orientation": "horizontal",
       "style": "IPY_MODEL_e071b581fcd94edc874a3b9dbef379a2",
       "tabbable": null,
       "tooltip": null,
       "value": 69665.0
      }
     },
     "b70778e85b3840ccb851f4fc0626b9b2": {
      "model_module": "@jupyter-widgets/base",
      "model_module_version": "2.0.0",
      "model_name": "LayoutModel",
      "state": {
       "_model_module": "@jupyter-widgets/base",
       "_model_module_version": "2.0.0",
       "_model_name": "LayoutModel",
       "_view_count": null,
       "_view_module": "@jupyter-widgets/base",
       "_view_module_version": "2.0.0",
       "_view_name": "LayoutView",
       "align_content": null,
       "align_items": null,
       "align_self": null,
       "border_bottom": null,
       "border_left": null,
       "border_right": null,
       "border_top": null,
       "bottom": null,
       "display": null,
       "flex": null,
       "flex_flow": null,
       "grid_area": null,
       "grid_auto_columns": null,
       "grid_auto_flow": null,
       "grid_auto_rows": null,
       "grid_column": null,
       "grid_gap": null,
       "grid_row": null,
       "grid_template_areas": null,
       "grid_template_columns": null,
       "grid_template_rows": null,
       "height": null,
       "justify_content": null,
       "justify_items": null,
       "left": null,
       "margin": null,
       "max_height": null,
       "max_width": null,
       "min_height": null,
       "min_width": null,
       "object_fit": null,
       "object_position": null,
       "order": null,
       "overflow": null,
       "padding": null,
       "right": null,
       "top": null,
       "visibility": null,
       "width": null
      }
     },
     "bb595639a98d4d19950ba0f7f663dfad": {
      "model_module": "@jupyter-widgets/controls",
      "model_module_version": "2.0.0",
      "model_name": "HBoxModel",
      "state": {
       "_dom_classes": [],
       "_model_module": "@jupyter-widgets/controls",
       "_model_module_version": "2.0.0",
       "_model_name": "HBoxModel",
       "_view_count": null,
       "_view_module": "@jupyter-widgets/controls",
       "_view_module_version": "2.0.0",
       "_view_name": "HBoxView",
       "box_style": "",
       "children": [
        "IPY_MODEL_d73a930f153c4b249c4a75d41f4c2f98",
        "IPY_MODEL_a9558a18cd8b4abf8bb433b3451f9c26",
        "IPY_MODEL_6ac76c70a4a246528a17ba2f3f4985c1"
       ],
       "layout": "IPY_MODEL_b70778e85b3840ccb851f4fc0626b9b2",
       "tabbable": null,
       "tooltip": null
      }
     },
     "be64976a28a047809fd37840325a29fe": {
      "model_module": "@jupyter-widgets/base",
      "model_module_version": "2.0.0",
      "model_name": "LayoutModel",
      "state": {
       "_model_module": "@jupyter-widgets/base",
       "_model_module_version": "2.0.0",
       "_model_name": "LayoutModel",
       "_view_count": null,
       "_view_module": "@jupyter-widgets/base",
       "_view_module_version": "2.0.0",
       "_view_name": "LayoutView",
       "align_content": null,
       "align_items": null,
       "align_self": null,
       "border_bottom": null,
       "border_left": null,
       "border_right": null,
       "border_top": null,
       "bottom": null,
       "display": null,
       "flex": null,
       "flex_flow": null,
       "grid_area": null,
       "grid_auto_columns": null,
       "grid_auto_flow": null,
       "grid_auto_rows": null,
       "grid_column": null,
       "grid_gap": null,
       "grid_row": null,
       "grid_template_areas": null,
       "grid_template_columns": null,
       "grid_template_rows": null,
       "height": null,
       "justify_content": null,
       "justify_items": null,
       "left": null,
       "margin": null,
       "max_height": null,
       "max_width": null,
       "min_height": null,
       "min_width": null,
       "object_fit": null,
       "object_position": null,
       "order": null,
       "overflow": null,
       "padding": null,
       "right": null,
       "top": null,
       "visibility": null,
       "width": null
      }
     },
     "c2b6a7dbd913410e8de41915033ff1f1": {
      "model_module": "@jupyter-widgets/controls",
      "model_module_version": "2.0.0",
      "model_name": "HTMLStyleModel",
      "state": {
       "_model_module": "@jupyter-widgets/controls",
       "_model_module_version": "2.0.0",
       "_model_name": "HTMLStyleModel",
       "_view_count": null,
       "_view_module": "@jupyter-widgets/base",
       "_view_module_version": "2.0.0",
       "_view_name": "StyleView",
       "background": null,
       "description_width": "",
       "font_size": null,
       "text_color": null
      }
     },
     "c6af9f3dc1734ff5ab7fb4de7f456308": {
      "model_module": "@jupyter-widgets/controls",
      "model_module_version": "2.0.0",
      "model_name": "HTMLStyleModel",
      "state": {
       "_model_module": "@jupyter-widgets/controls",
       "_model_module_version": "2.0.0",
       "_model_name": "HTMLStyleModel",
       "_view_count": null,
       "_view_module": "@jupyter-widgets/base",
       "_view_module_version": "2.0.0",
       "_view_name": "StyleView",
       "background": null,
       "description_width": "",
       "font_size": null,
       "text_color": null
      }
     },
     "d017987a09864901937a5c5f9a0e2a53": {
      "model_module": "@jupyter-widgets/controls",
      "model_module_version": "2.0.0",
      "model_name": "ProgressStyleModel",
      "state": {
       "_model_module": "@jupyter-widgets/controls",
       "_model_module_version": "2.0.0",
       "_model_name": "ProgressStyleModel",
       "_view_count": null,
       "_view_module": "@jupyter-widgets/base",
       "_view_module_version": "2.0.0",
       "_view_name": "StyleView",
       "bar_color": null,
       "description_width": ""
      }
     },
     "d63b25ee71c84dd5a5fe7fae734ef621": {
      "model_module": "@jupyter-widgets/base",
      "model_module_version": "2.0.0",
      "model_name": "LayoutModel",
      "state": {
       "_model_module": "@jupyter-widgets/base",
       "_model_module_version": "2.0.0",
       "_model_name": "LayoutModel",
       "_view_count": null,
       "_view_module": "@jupyter-widgets/base",
       "_view_module_version": "2.0.0",
       "_view_name": "LayoutView",
       "align_content": null,
       "align_items": null,
       "align_self": null,
       "border_bottom": null,
       "border_left": null,
       "border_right": null,
       "border_top": null,
       "bottom": null,
       "display": null,
       "flex": null,
       "flex_flow": null,
       "grid_area": null,
       "grid_auto_columns": null,
       "grid_auto_flow": null,
       "grid_auto_rows": null,
       "grid_column": null,
       "grid_gap": null,
       "grid_row": null,
       "grid_template_areas": null,
       "grid_template_columns": null,
       "grid_template_rows": null,
       "height": null,
       "justify_content": null,
       "justify_items": null,
       "left": null,
       "margin": null,
       "max_height": null,
       "max_width": null,
       "min_height": null,
       "min_width": null,
       "object_fit": null,
       "object_position": null,
       "order": null,
       "overflow": null,
       "padding": null,
       "right": null,
       "top": null,
       "visibility": null,
       "width": null
      }
     },
     "d73a930f153c4b249c4a75d41f4c2f98": {
      "model_module": "@jupyter-widgets/controls",
      "model_module_version": "2.0.0",
      "model_name": "HTMLModel",
      "state": {
       "_dom_classes": [],
       "_model_module": "@jupyter-widgets/controls",
       "_model_module_version": "2.0.0",
       "_model_name": "HTMLModel",
       "_view_count": null,
       "_view_module": "@jupyter-widgets/controls",
       "_view_module_version": "2.0.0",
       "_view_name": "HTMLView",
       "description": "",
       "description_allow_html": false,
       "layout": "IPY_MODEL_0cd5ee7ba8cb49638f19fa661a9774e4",
       "placeholder": "​",
       "style": "IPY_MODEL_e2616580e5594e5bb11b2e9109e141f3",
       "tabbable": null,
       "tooltip": null,
       "value": "config.json: 100%"
      }
     },
     "de0b2dae8944436e858c5554024b670f": {
      "model_module": "@jupyter-widgets/base",
      "model_module_version": "2.0.0",
      "model_name": "LayoutModel",
      "state": {
       "_model_module": "@jupyter-widgets/base",
       "_model_module_version": "2.0.0",
       "_model_name": "LayoutModel",
       "_view_count": null,
       "_view_module": "@jupyter-widgets/base",
       "_view_module_version": "2.0.0",
       "_view_name": "LayoutView",
       "align_content": null,
       "align_items": null,
       "align_self": null,
       "border_bottom": null,
       "border_left": null,
       "border_right": null,
       "border_top": null,
       "bottom": null,
       "display": null,
       "flex": null,
       "flex_flow": null,
       "grid_area": null,
       "grid_auto_columns": null,
       "grid_auto_flow": null,
       "grid_auto_rows": null,
       "grid_column": null,
       "grid_gap": null,
       "grid_row": null,
       "grid_template_areas": null,
       "grid_template_columns": null,
       "grid_template_rows": null,
       "height": null,
       "justify_content": null,
       "justify_items": null,
       "left": null,
       "margin": null,
       "max_height": null,
       "max_width": null,
       "min_height": null,
       "min_width": null,
       "object_fit": null,
       "object_position": null,
       "order": null,
       "overflow": null,
       "padding": null,
       "right": null,
       "top": null,
       "visibility": null,
       "width": null
      }
     },
     "dfad512a6302462181ad223ccd401f97": {
      "model_module": "@jupyter-widgets/controls",
      "model_module_version": "2.0.0",
      "model_name": "ProgressStyleModel",
      "state": {
       "_model_module": "@jupyter-widgets/controls",
       "_model_module_version": "2.0.0",
       "_model_name": "ProgressStyleModel",
       "_view_count": null,
       "_view_module": "@jupyter-widgets/base",
       "_view_module_version": "2.0.0",
       "_view_name": "StyleView",
       "bar_color": null,
       "description_width": ""
      }
     },
     "e071b581fcd94edc874a3b9dbef379a2": {
      "model_module": "@jupyter-widgets/controls",
      "model_module_version": "2.0.0",
      "model_name": "ProgressStyleModel",
      "state": {
       "_model_module": "@jupyter-widgets/controls",
       "_model_module_version": "2.0.0",
       "_model_name": "ProgressStyleModel",
       "_view_count": null,
       "_view_module": "@jupyter-widgets/base",
       "_view_module_version": "2.0.0",
       "_view_name": "StyleView",
       "bar_color": null,
       "description_width": ""
      }
     },
     "e2616580e5594e5bb11b2e9109e141f3": {
      "model_module": "@jupyter-widgets/controls",
      "model_module_version": "2.0.0",
      "model_name": "HTMLStyleModel",
      "state": {
       "_model_module": "@jupyter-widgets/controls",
       "_model_module_version": "2.0.0",
       "_model_name": "HTMLStyleModel",
       "_view_count": null,
       "_view_module": "@jupyter-widgets/base",
       "_view_module_version": "2.0.0",
       "_view_name": "StyleView",
       "background": null,
       "description_width": "",
       "font_size": null,
       "text_color": null
      }
     },
     "e2bd9136e0ac43b4a708ddc230cbd13e": {
      "model_module": "@jupyter-widgets/controls",
      "model_module_version": "2.0.0",
      "model_name": "HTMLStyleModel",
      "state": {
       "_model_module": "@jupyter-widgets/controls",
       "_model_module_version": "2.0.0",
       "_model_name": "HTMLStyleModel",
       "_view_count": null,
       "_view_module": "@jupyter-widgets/base",
       "_view_module_version": "2.0.0",
       "_view_name": "StyleView",
       "background": null,
       "description_width": "",
       "font_size": null,
       "text_color": null
      }
     },
     "e908e8c47bdf4fbb8892d4348639a531": {
      "model_module": "@jupyter-widgets/base",
      "model_module_version": "2.0.0",
      "model_name": "LayoutModel",
      "state": {
       "_model_module": "@jupyter-widgets/base",
       "_model_module_version": "2.0.0",
       "_model_name": "LayoutModel",
       "_view_count": null,
       "_view_module": "@jupyter-widgets/base",
       "_view_module_version": "2.0.0",
       "_view_name": "LayoutView",
       "align_content": null,
       "align_items": null,
       "align_self": null,
       "border_bottom": null,
       "border_left": null,
       "border_right": null,
       "border_top": null,
       "bottom": null,
       "display": null,
       "flex": null,
       "flex_flow": null,
       "grid_area": null,
       "grid_auto_columns": null,
       "grid_auto_flow": null,
       "grid_auto_rows": null,
       "grid_column": null,
       "grid_gap": null,
       "grid_row": null,
       "grid_template_areas": null,
       "grid_template_columns": null,
       "grid_template_rows": null,
       "height": null,
       "justify_content": null,
       "justify_items": null,
       "left": null,
       "margin": null,
       "max_height": null,
       "max_width": null,
       "min_height": null,
       "min_width": null,
       "object_fit": null,
       "object_position": null,
       "order": null,
       "overflow": null,
       "padding": null,
       "right": null,
       "top": null,
       "visibility": null,
       "width": null
      }
     },
     "ecdb6fe29e0b4058be506d74ad8d5f1e": {
      "model_module": "@jupyter-widgets/controls",
      "model_module_version": "2.0.0",
      "model_name": "HTMLModel",
      "state": {
       "_dom_classes": [],
       "_model_module": "@jupyter-widgets/controls",
       "_model_module_version": "2.0.0",
       "_model_name": "HTMLModel",
       "_view_count": null,
       "_view_module": "@jupyter-widgets/controls",
       "_view_module_version": "2.0.0",
       "_view_name": "HTMLView",
       "description": "",
       "description_allow_html": false,
       "layout": "IPY_MODEL_de0b2dae8944436e858c5554024b670f",
       "placeholder": "​",
       "style": "IPY_MODEL_4be70866edb54da3a719f3d7694dce7f",
       "tabbable": null,
       "tooltip": null,
       "value": "model.safetensors: 100%"
      }
     },
     "f0053aa1905448ff95d2f672017a6d40": {
      "model_module": "@jupyter-widgets/base",
      "model_module_version": "2.0.0",
      "model_name": "LayoutModel",
      "state": {
       "_model_module": "@jupyter-widgets/base",
       "_model_module_version": "2.0.0",
       "_model_name": "LayoutModel",
       "_view_count": null,
       "_view_module": "@jupyter-widgets/base",
       "_view_module_version": "2.0.0",
       "_view_name": "LayoutView",
       "align_content": null,
       "align_items": null,
       "align_self": null,
       "border_bottom": null,
       "border_left": null,
       "border_right": null,
       "border_top": null,
       "bottom": null,
       "display": null,
       "flex": null,
       "flex_flow": null,
       "grid_area": null,
       "grid_auto_columns": null,
       "grid_auto_flow": null,
       "grid_auto_rows": null,
       "grid_column": null,
       "grid_gap": null,
       "grid_row": null,
       "grid_template_areas": null,
       "grid_template_columns": null,
       "grid_template_rows": null,
       "height": null,
       "justify_content": null,
       "justify_items": null,
       "left": null,
       "margin": null,
       "max_height": null,
       "max_width": null,
       "min_height": null,
       "min_width": null,
       "object_fit": null,
       "object_position": null,
       "order": null,
       "overflow": null,
       "padding": null,
       "right": null,
       "top": null,
       "visibility": null,
       "width": null
      }
     },
     "f19b01dc04cd494d9f91def4f8830099": {
      "model_module": "@jupyter-widgets/controls",
      "model_module_version": "2.0.0",
      "model_name": "HBoxModel",
      "state": {
       "_dom_classes": [],
       "_model_module": "@jupyter-widgets/controls",
       "_model_module_version": "2.0.0",
       "_model_name": "HBoxModel",
       "_view_count": null,
       "_view_module": "@jupyter-widgets/controls",
       "_view_module_version": "2.0.0",
       "_view_name": "HBoxView",
       "box_style": "",
       "children": [
        "IPY_MODEL_ecdb6fe29e0b4058be506d74ad8d5f1e",
        "IPY_MODEL_9533b45fccec469784bb8c46e326169e",
        "IPY_MODEL_485131c0bee6459f97d3ba2d8d87d092"
       ],
       "layout": "IPY_MODEL_972fb346f81b4d81ad624cfc6c4bfe7c",
       "tabbable": null,
       "tooltip": null
      }
     },
     "f885976b971e408ca35fab82fcc30438": {
      "model_module": "@jupyter-widgets/controls",
      "model_module_version": "2.0.0",
      "model_name": "HTMLModel",
      "state": {
       "_dom_classes": [],
       "_model_module": "@jupyter-widgets/controls",
       "_model_module_version": "2.0.0",
       "_model_name": "HTMLModel",
       "_view_count": null,
       "_view_module": "@jupyter-widgets/controls",
       "_view_module_version": "2.0.0",
       "_view_name": "HTMLView",
       "description": "",
       "description_allow_html": false,
       "layout": "IPY_MODEL_e908e8c47bdf4fbb8892d4348639a531",
       "placeholder": "​",
       "style": "IPY_MODEL_9db497b1e3b645a6815fdbf05e7a7984",
       "tabbable": null,
       "tooltip": null,
       "value": " 160/160 [00:00&lt;00:00, 14.9kB/s]"
      }
     }
    },
    "version_major": 2,
    "version_minor": 0
   }
  }
 },
 "nbformat": 4,
 "nbformat_minor": 5
}
